{
 "cells": [
  {
   "cell_type": "code",
   "execution_count": null,
   "id": "78484857-f562-463e-a70f-ec6e9956395e",
   "metadata": {},
   "outputs": [],
   "source": []
  }
 ],
 "metadata": {
  "kernelspec": {
   "display_name": "",
   "name": ""
  },
  "language_info": {
   "name": ""
  }
 },
 "nbformat": 4,
 "nbformat_minor": 5
}
