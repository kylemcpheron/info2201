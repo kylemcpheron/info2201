{
 "cells": [
  {
   "cell_type": "markdown",
   "metadata": {},
   "source": [
    "# Week 5 Day 1 - Pandas\n",
    "\n",
    "[Pandas](https://pandas.pydata.org) is a software library written for the Python programming language for data manipulation and analysis. In particular, it offers data structures and operations for manipulating numerical tables and time series. It is free software released under the three-clause BSD license."
   ]
  },
  {
   "cell_type": "code",
   "execution_count": 1,
   "metadata": {},
   "outputs": [],
   "source": [
    "import pandas as pd"
   ]
  },
  {
   "cell_type": "code",
   "execution_count": 3,
   "metadata": {},
   "outputs": [],
   "source": [
    "# make a dictionary with lists as values\n",
    "mydataset = {\n",
    "  'cars': [\"BMW\", \"Volvo\", \"Ford\"],\n",
    "  'passings': [3, 7, 2]\n",
    "}"
   ]
  },
  {
   "cell_type": "code",
   "execution_count": 5,
   "metadata": {},
   "outputs": [
    {
     "ename": "SyntaxError",
     "evalue": "invalid syntax (3644512613.py, line 3)",
     "output_type": "error",
     "traceback": [
      "\u001b[1;36m  Cell \u001b[1;32mIn[5], line 3\u001b[1;36m\u001b[0m\n\u001b[1;33m    mycars =\u001b[0m\n\u001b[1;37m            ^\u001b[0m\n\u001b[1;31mSyntaxError\u001b[0m\u001b[1;31m:\u001b[0m invalid syntax\n"
     ]
    }
   ],
   "source": [
    "#make it a dataframe\n",
    "\n",
    "mycars ="
   ]
  },
  {
   "cell_type": "code",
   "execution_count": 3,
   "metadata": {},
   "outputs": [],
   "source": [
    "#get the information of your dataframe\n"
   ]
  },
  {
   "cell_type": "code",
   "execution_count": 7,
   "metadata": {},
   "outputs": [
    {
     "ename": "NameError",
     "evalue": "name 'mycars' is not defined",
     "output_type": "error",
     "traceback": [
      "\u001b[1;31m---------------------------------------------------------------------------\u001b[0m",
      "\u001b[1;31mNameError\u001b[0m                                 Traceback (most recent call last)",
      "Cell \u001b[1;32mIn[7], line 3\u001b[0m\n\u001b[0;32m      1\u001b[0m \u001b[38;5;66;03m#get the shape of your dataframe\u001b[39;00m\n\u001b[1;32m----> 3\u001b[0m mycars\u001b[38;5;241m.\u001b[39mshape\n",
      "\u001b[1;31mNameError\u001b[0m: name 'mycars' is not defined"
     ]
    }
   ],
   "source": [
    "#get the shape of your dataframe\n",
    "\n",
    "mycars.shape"
   ]
  },
  {
   "cell_type": "code",
   "execution_count": 9,
   "metadata": {},
   "outputs": [
    {
     "ename": "NameError",
     "evalue": "name 'mycars' is not defined",
     "output_type": "error",
     "traceback": [
      "\u001b[1;31m---------------------------------------------------------------------------\u001b[0m",
      "\u001b[1;31mNameError\u001b[0m                                 Traceback (most recent call last)",
      "Cell \u001b[1;32mIn[9], line 3\u001b[0m\n\u001b[0;32m      1\u001b[0m \u001b[38;5;66;03m#get the columns\u001b[39;00m\n\u001b[1;32m----> 3\u001b[0m mycars\u001b[38;5;241m.\u001b[39mcolumns\n",
      "\u001b[1;31mNameError\u001b[0m: name 'mycars' is not defined"
     ]
    }
   ],
   "source": [
    "#get the columns\n",
    "\n",
    "mycars.columns"
   ]
  },
  {
   "cell_type": "code",
   "execution_count": 11,
   "metadata": {},
   "outputs": [
    {
     "ename": "NameError",
     "evalue": "name 'mycars' is not defined",
     "output_type": "error",
     "traceback": [
      "\u001b[1;31m---------------------------------------------------------------------------\u001b[0m",
      "\u001b[1;31mNameError\u001b[0m                                 Traceback (most recent call last)",
      "Cell \u001b[1;32mIn[11], line 3\u001b[0m\n\u001b[0;32m      1\u001b[0m \u001b[38;5;66;03m#get the rows\u001b[39;00m\n\u001b[1;32m----> 3\u001b[0m mycars\u001b[38;5;241m.\u001b[39mvalues\n",
      "\u001b[1;31mNameError\u001b[0m: name 'mycars' is not defined"
     ]
    }
   ],
   "source": [
    "#get the rows\n",
    "\n",
    "mycars.values"
   ]
  },
  {
   "cell_type": "code",
   "execution_count": 7,
   "metadata": {},
   "outputs": [],
   "source": [
    "#get the axis\n",
    "\n"
   ]
  },
  {
   "cell_type": "code",
   "execution_count": 13,
   "metadata": {},
   "outputs": [
    {
     "ename": "NameError",
     "evalue": "name 'mycars' is not defined",
     "output_type": "error",
     "traceback": [
      "\u001b[1;31m---------------------------------------------------------------------------\u001b[0m",
      "\u001b[1;31mNameError\u001b[0m                                 Traceback (most recent call last)",
      "Cell \u001b[1;32mIn[13], line 3\u001b[0m\n\u001b[0;32m      1\u001b[0m \u001b[38;5;66;03m#get the first row\u001b[39;00m\n\u001b[1;32m----> 3\u001b[0m mycars[\u001b[38;5;241m0\u001b[39m]\n",
      "\u001b[1;31mNameError\u001b[0m: name 'mycars' is not defined"
     ]
    }
   ],
   "source": [
    "#get the first row\n",
    "\n",
    "mycars[0]"
   ]
  },
  {
   "cell_type": "code",
   "execution_count": 15,
   "metadata": {},
   "outputs": [
    {
     "ename": "NameError",
     "evalue": "name 'mycars' is not defined",
     "output_type": "error",
     "traceback": [
      "\u001b[1;31m---------------------------------------------------------------------------\u001b[0m",
      "\u001b[1;31mNameError\u001b[0m                                 Traceback (most recent call last)",
      "Cell \u001b[1;32mIn[15], line 3\u001b[0m\n\u001b[0;32m      1\u001b[0m \u001b[38;5;66;03m#use a list of indexs:\u001b[39;00m\n\u001b[1;32m----> 3\u001b[0m mycars\u001b[38;5;241m.\u001b[39mloc[[\u001b[38;5;241m0\u001b[39m,\u001b[38;5;241m2\u001b[39m]]\n",
      "\u001b[1;31mNameError\u001b[0m: name 'mycars' is not defined"
     ]
    }
   ],
   "source": [
    "#use a list of indexs:\n",
    "\n",
    "mycars.loc[[0,2]]"
   ]
  },
  {
   "cell_type": "code",
   "execution_count": 17,
   "metadata": {},
   "outputs": [
    {
     "ename": "NameError",
     "evalue": "name 'mycars' is not defined",
     "output_type": "error",
     "traceback": [
      "\u001b[1;31m---------------------------------------------------------------------------\u001b[0m",
      "\u001b[1;31mNameError\u001b[0m                                 Traceback (most recent call last)",
      "Cell \u001b[1;32mIn[17], line 3\u001b[0m\n\u001b[0;32m      1\u001b[0m \u001b[38;5;66;03m#get a column\u001b[39;00m\n\u001b[1;32m----> 3\u001b[0m mycars[\u001b[38;5;124m'\u001b[39m\u001b[38;5;124mcars\u001b[39m\u001b[38;5;124m'\u001b[39m]\n",
      "\u001b[1;31mNameError\u001b[0m: name 'mycars' is not defined"
     ]
    }
   ],
   "source": [
    "#get a column\n",
    "\n",
    "mycars['cars']"
   ]
  },
  {
   "cell_type": "code",
   "execution_count": 11,
   "metadata": {},
   "outputs": [],
   "source": [
    "#get the rows\n",
    "\n"
   ]
  },
  {
   "cell_type": "code",
   "execution_count": 19,
   "metadata": {},
   "outputs": [
    {
     "ename": "NameError",
     "evalue": "name 'mycars' is not defined",
     "output_type": "error",
     "traceback": [
      "\u001b[1;31m---------------------------------------------------------------------------\u001b[0m",
      "\u001b[1;31mNameError\u001b[0m                                 Traceback (most recent call last)",
      "Cell \u001b[1;32mIn[19], line 3\u001b[0m\n\u001b[0;32m      1\u001b[0m \u001b[38;5;66;03m#what are the datatypes of the dataframe\u001b[39;00m\n\u001b[1;32m----> 3\u001b[0m mycars\u001b[38;5;241m.\u001b[39mdtypes\n",
      "\u001b[1;31mNameError\u001b[0m: name 'mycars' is not defined"
     ]
    }
   ],
   "source": [
    "#what are the datatypes of the dataframe\n",
    "\n",
    "mycars.dtypes"
   ]
  },
  {
   "cell_type": "code",
   "execution_count": 13,
   "metadata": {},
   "outputs": [],
   "source": [
    "#change 'passings' to float\n",
    "\n",
    "mycars['passings'] = mycars['passings'].astype('float')"
   ]
  },
  {
   "cell_type": "code",
   "execution_count": 21,
   "metadata": {},
   "outputs": [
    {
     "ename": "NameError",
     "evalue": "name 'mycars' is not defined",
     "output_type": "error",
     "traceback": [
      "\u001b[1;31m---------------------------------------------------------------------------\u001b[0m",
      "\u001b[1;31mNameError\u001b[0m                                 Traceback (most recent call last)",
      "Cell \u001b[1;32mIn[21], line 3\u001b[0m\n\u001b[0;32m      1\u001b[0m \u001b[38;5;66;03m#look at it again\u001b[39;00m\n\u001b[1;32m----> 3\u001b[0m mycars\u001b[38;5;241m.\u001b[39mdtypes\n",
      "\u001b[1;31mNameError\u001b[0m: name 'mycars' is not defined"
     ]
    }
   ],
   "source": [
    "#look at it again\n",
    "\n",
    "mycars.dtypes"
   ]
  },
  {
   "cell_type": "code",
   "execution_count": 15,
   "metadata": {},
   "outputs": [],
   "source": [
    "#get rid of the last row\n",
    "\n",
    "mycars.drop(2)"
   ]
  },
  {
   "cell_type": "code",
   "execution_count": 16,
   "metadata": {},
   "outputs": [],
   "source": [
    "#get rid of the passings column\n",
    "\n",
    "mycars.drop['passing']"
   ]
  },
  {
   "cell_type": "markdown",
   "metadata": {},
   "source": [
    "<!--  -->"
   ]
  },
  {
   "cell_type": "markdown",
   "metadata": {},
   "source": [
    "### NaN & empty data"
   ]
  },
  {
   "cell_type": "code",
   "execution_count": 29,
   "metadata": {},
   "outputs": [],
   "source": [
    "import numpy as np\n",
    "\n",
    "uglyData = {\n",
    "  'cars': [\"BMW\", 'Jeep', \"Ford\", 'Chrysler'],\n",
    "  'passings': [3, np.nan, 2, 'NaN']\n",
    "}\n",
    "\n",
    "uglyDF = pd.DataFrame(uglyData)"
   ]
  },
  {
   "cell_type": "code",
   "execution_count": 31,
   "metadata": {},
   "outputs": [
    {
     "data": {
      "text/html": [
       "<div>\n",
       "<style scoped>\n",
       "    .dataframe tbody tr th:only-of-type {\n",
       "        vertical-align: middle;\n",
       "    }\n",
       "\n",
       "    .dataframe tbody tr th {\n",
       "        vertical-align: top;\n",
       "    }\n",
       "\n",
       "    .dataframe thead th {\n",
       "        text-align: right;\n",
       "    }\n",
       "</style>\n",
       "<table border=\"1\" class=\"dataframe\">\n",
       "  <thead>\n",
       "    <tr style=\"text-align: right;\">\n",
       "      <th></th>\n",
       "      <th>cars</th>\n",
       "      <th>passings</th>\n",
       "    </tr>\n",
       "  </thead>\n",
       "  <tbody>\n",
       "    <tr>\n",
       "      <th>0</th>\n",
       "      <td>BMW</td>\n",
       "      <td>3</td>\n",
       "    </tr>\n",
       "    <tr>\n",
       "      <th>1</th>\n",
       "      <td>Jeep</td>\n",
       "      <td>NaN</td>\n",
       "    </tr>\n",
       "    <tr>\n",
       "      <th>2</th>\n",
       "      <td>Ford</td>\n",
       "      <td>2</td>\n",
       "    </tr>\n",
       "    <tr>\n",
       "      <th>3</th>\n",
       "      <td>Chrysler</td>\n",
       "      <td>NaN</td>\n",
       "    </tr>\n",
       "  </tbody>\n",
       "</table>\n",
       "</div>"
      ],
      "text/plain": [
       "       cars passings\n",
       "0       BMW        3\n",
       "1      Jeep      NaN\n",
       "2      Ford        2\n",
       "3  Chrysler      NaN"
      ]
     },
     "execution_count": 31,
     "metadata": {},
     "output_type": "execute_result"
    }
   ],
   "source": [
    "uglyDF"
   ]
  },
  {
   "cell_type": "code",
   "execution_count": 33,
   "metadata": {},
   "outputs": [],
   "source": [
    "#drop the Nan\n",
    "\n",
    "cleanDF = uglyDF.dropna()"
   ]
  },
  {
   "cell_type": "code",
   "execution_count": 35,
   "metadata": {},
   "outputs": [
    {
     "data": {
      "text/html": [
       "<div>\n",
       "<style scoped>\n",
       "    .dataframe tbody tr th:only-of-type {\n",
       "        vertical-align: middle;\n",
       "    }\n",
       "\n",
       "    .dataframe tbody tr th {\n",
       "        vertical-align: top;\n",
       "    }\n",
       "\n",
       "    .dataframe thead th {\n",
       "        text-align: right;\n",
       "    }\n",
       "</style>\n",
       "<table border=\"1\" class=\"dataframe\">\n",
       "  <thead>\n",
       "    <tr style=\"text-align: right;\">\n",
       "      <th></th>\n",
       "      <th>cars</th>\n",
       "      <th>passings</th>\n",
       "    </tr>\n",
       "  </thead>\n",
       "  <tbody>\n",
       "    <tr>\n",
       "      <th>0</th>\n",
       "      <td>BMW</td>\n",
       "      <td>3</td>\n",
       "    </tr>\n",
       "    <tr>\n",
       "      <th>2</th>\n",
       "      <td>Ford</td>\n",
       "      <td>2</td>\n",
       "    </tr>\n",
       "    <tr>\n",
       "      <th>3</th>\n",
       "      <td>Chrysler</td>\n",
       "      <td>NaN</td>\n",
       "    </tr>\n",
       "  </tbody>\n",
       "</table>\n",
       "</div>"
      ],
      "text/plain": [
       "       cars passings\n",
       "0       BMW        3\n",
       "2      Ford        2\n",
       "3  Chrysler      NaN"
      ]
     },
     "execution_count": 35,
     "metadata": {},
     "output_type": "execute_result"
    }
   ],
   "source": [
    "cleanDF"
   ]
  },
  {
   "cell_type": "code",
   "execution_count": 37,
   "metadata": {},
   "outputs": [
    {
     "data": {
      "text/html": [
       "<div>\n",
       "<style scoped>\n",
       "    .dataframe tbody tr th:only-of-type {\n",
       "        vertical-align: middle;\n",
       "    }\n",
       "\n",
       "    .dataframe tbody tr th {\n",
       "        vertical-align: top;\n",
       "    }\n",
       "\n",
       "    .dataframe thead th {\n",
       "        text-align: right;\n",
       "    }\n",
       "</style>\n",
       "<table border=\"1\" class=\"dataframe\">\n",
       "  <thead>\n",
       "    <tr style=\"text-align: right;\">\n",
       "      <th></th>\n",
       "      <th>cars</th>\n",
       "      <th>passings</th>\n",
       "    </tr>\n",
       "  </thead>\n",
       "  <tbody>\n",
       "    <tr>\n",
       "      <th>0</th>\n",
       "      <td>BMW</td>\n",
       "      <td>3</td>\n",
       "    </tr>\n",
       "    <tr>\n",
       "      <th>1</th>\n",
       "      <td>Jeep</td>\n",
       "      <td>NaN</td>\n",
       "    </tr>\n",
       "    <tr>\n",
       "      <th>2</th>\n",
       "      <td>Ford</td>\n",
       "      <td>2</td>\n",
       "    </tr>\n",
       "    <tr>\n",
       "      <th>3</th>\n",
       "      <td>Chrysler</td>\n",
       "      <td>NaN</td>\n",
       "    </tr>\n",
       "  </tbody>\n",
       "</table>\n",
       "</div>"
      ],
      "text/plain": [
       "       cars passings\n",
       "0       BMW        3\n",
       "1      Jeep      NaN\n",
       "2      Ford        2\n",
       "3  Chrysler      NaN"
      ]
     },
     "execution_count": 37,
     "metadata": {},
     "output_type": "execute_result"
    }
   ],
   "source": [
    "#replace it with 0\n",
    "\n",
    "clean2DF = uglyDF.fillna(\"NaN\")\n",
    "clean2DF"
   ]
  },
  {
   "cell_type": "markdown",
   "metadata": {},
   "source": [
    "<!--  -->"
   ]
  },
  {
   "cell_type": "markdown",
   "metadata": {},
   "source": [
    "### .csv Files\n",
    "\n",
    "**pd.read_csv** \n",
    "\n",
    "A simple way to store big data sets is to use CSV files (comma separated files).\n",
    "CSV files contains plain text and is a well know format that can be read by everyone including Pandas.\n",
    "\n",
    "*pd.read_csv(filepath_or_buffer, sep=’ ,’ , header=’infer’,  index_col=None, usecols=None, engine=None, skiprows=None, nrows=None)*"
   ]
  },
  {
   "cell_type": "code",
   "execution_count": 39,
   "metadata": {},
   "outputs": [],
   "source": [
    "#import tv_shows.csv\n",
    "df = pd.read_csv('data/tv_shows.csv')"
   ]
  },
  {
   "cell_type": "code",
   "execution_count": 41,
   "metadata": {},
   "outputs": [
    {
     "data": {
      "text/html": [
       "<div>\n",
       "<style scoped>\n",
       "    .dataframe tbody tr th:only-of-type {\n",
       "        vertical-align: middle;\n",
       "    }\n",
       "\n",
       "    .dataframe tbody tr th {\n",
       "        vertical-align: top;\n",
       "    }\n",
       "\n",
       "    .dataframe thead th {\n",
       "        text-align: right;\n",
       "    }\n",
       "</style>\n",
       "<table border=\"1\" class=\"dataframe\">\n",
       "  <thead>\n",
       "    <tr style=\"text-align: right;\">\n",
       "      <th></th>\n",
       "      <th>Unnamed: 0</th>\n",
       "      <th>title</th>\n",
       "      <th>year</th>\n",
       "      <th>runtime</th>\n",
       "      <th>rating</th>\n",
       "      <th>votes</th>\n",
       "      <th>genre</th>\n",
       "      <th>text</th>\n",
       "    </tr>\n",
       "  </thead>\n",
       "  <tbody>\n",
       "    <tr>\n",
       "      <th>0</th>\n",
       "      <td>0</td>\n",
       "      <td>Game of Thrones</td>\n",
       "      <td>(2011 TV Series)</td>\n",
       "      <td>55 mins.</td>\n",
       "      <td>9.5</td>\n",
       "      <td>748,557</td>\n",
       "      <td>[u'Adventure', u'Drama', u'Fantasy']</td>\n",
       "      <td>Several noble families fight for control of th...</td>\n",
       "    </tr>\n",
       "    <tr>\n",
       "      <th>1</th>\n",
       "      <td>1</td>\n",
       "      <td>Breaking Bad</td>\n",
       "      <td>(2008 TV Series)</td>\n",
       "      <td>45 mins.</td>\n",
       "      <td>9.5</td>\n",
       "      <td>662,459</td>\n",
       "      <td>[u'Crime', u'Drama', u'Thriller']</td>\n",
       "      <td>A chemistry teacher diagnosed with a terminal ...</td>\n",
       "    </tr>\n",
       "    <tr>\n",
       "      <th>2</th>\n",
       "      <td>2</td>\n",
       "      <td>The Walking Dead</td>\n",
       "      <td>(2010 TV Series)</td>\n",
       "      <td>44 mins.</td>\n",
       "      <td>8.7</td>\n",
       "      <td>500,301</td>\n",
       "      <td>[u'Drama', u'Horror']</td>\n",
       "      <td>Sheriff's Deputy Rick Grimes leads a group of ...</td>\n",
       "    </tr>\n",
       "    <tr>\n",
       "      <th>3</th>\n",
       "      <td>3</td>\n",
       "      <td>The Big Bang Theory</td>\n",
       "      <td>(2007 TV Series)</td>\n",
       "      <td>22 mins.</td>\n",
       "      <td>8.5</td>\n",
       "      <td>438,226</td>\n",
       "      <td>[u'Comedy']</td>\n",
       "      <td>A woman who moves into an apartment across the...</td>\n",
       "    </tr>\n",
       "    <tr>\n",
       "      <th>4</th>\n",
       "      <td>4</td>\n",
       "      <td>Dexter</td>\n",
       "      <td>(2006 TV Series)</td>\n",
       "      <td>55 mins.</td>\n",
       "      <td>8.9</td>\n",
       "      <td>419,031</td>\n",
       "      <td>[u'Crime', u'Drama', u'Mystery', u'Thriller']</td>\n",
       "      <td>A Miami police forensics expert moonlights as ...</td>\n",
       "    </tr>\n",
       "    <tr>\n",
       "      <th>...</th>\n",
       "      <td>...</td>\n",
       "      <td>...</td>\n",
       "      <td>...</td>\n",
       "      <td>...</td>\n",
       "      <td>...</td>\n",
       "      <td>...</td>\n",
       "      <td>...</td>\n",
       "      <td>...</td>\n",
       "    </tr>\n",
       "    <tr>\n",
       "      <th>1969</th>\n",
       "      <td>1969</td>\n",
       "      <td>Cristela</td>\n",
       "      <td>(2014 TV Series)</td>\n",
       "      <td>30 mins.</td>\n",
       "      <td>6.3</td>\n",
       "      <td>1,510</td>\n",
       "      <td>[u'Comedy']</td>\n",
       "      <td>In her sixth year of law school, Cristela is f...</td>\n",
       "    </tr>\n",
       "    <tr>\n",
       "      <th>1970</th>\n",
       "      <td>1970</td>\n",
       "      <td>Power Rangers in Space</td>\n",
       "      <td>(1998 TV Series)</td>\n",
       "      <td>30 mins.</td>\n",
       "      <td>7.2</td>\n",
       "      <td>1,504</td>\n",
       "      <td>[u'Action', u'Adventure', u'Family', u'Sci-Fi']</td>\n",
       "      <td>The most evil forces of the universe (Rita &amp;am...</td>\n",
       "    </tr>\n",
       "    <tr>\n",
       "      <th>1971</th>\n",
       "      <td>1971</td>\n",
       "      <td>Reading Rainbow</td>\n",
       "      <td>(1983 TV Series)</td>\n",
       "      <td>30 mins.</td>\n",
       "      <td>8.5</td>\n",
       "      <td>1,501</td>\n",
       "      <td>[u'Family']</td>\n",
       "      <td>Levar Burton introduces young viewers to illus...</td>\n",
       "    </tr>\n",
       "    <tr>\n",
       "      <th>1972</th>\n",
       "      <td>1972</td>\n",
       "      <td>Martial Law</td>\n",
       "      <td>(1998 TV Series)</td>\n",
       "      <td>45 mins.</td>\n",
       "      <td>7.1</td>\n",
       "      <td>1,501</td>\n",
       "      <td>[u'Comedy', u'Crime', u'Action']</td>\n",
       "      <td>A Shanghai cop who is a master of martial arts...</td>\n",
       "    </tr>\n",
       "    <tr>\n",
       "      <th>1973</th>\n",
       "      <td>1973</td>\n",
       "      <td>Beast Machines: Transformers</td>\n",
       "      <td>(1999 TV Series)</td>\n",
       "      <td>30 mins.</td>\n",
       "      <td>6.9</td>\n",
       "      <td>1,500</td>\n",
       "      <td>[u'Action', u'Animation', u'Sci-Fi']</td>\n",
       "      <td>The Maximals awaken on their home planet of Cy...</td>\n",
       "    </tr>\n",
       "  </tbody>\n",
       "</table>\n",
       "<p>1974 rows × 8 columns</p>\n",
       "</div>"
      ],
      "text/plain": [
       "      Unnamed: 0                         title              year   runtime  \\\n",
       "0              0               Game of Thrones  (2011 TV Series)  55 mins.   \n",
       "1              1                  Breaking Bad  (2008 TV Series)  45 mins.   \n",
       "2              2              The Walking Dead  (2010 TV Series)  44 mins.   \n",
       "3              3           The Big Bang Theory  (2007 TV Series)  22 mins.   \n",
       "4              4                        Dexter  (2006 TV Series)  55 mins.   \n",
       "...          ...                           ...               ...       ...   \n",
       "1969        1969                      Cristela  (2014 TV Series)  30 mins.   \n",
       "1970        1970        Power Rangers in Space  (1998 TV Series)  30 mins.   \n",
       "1971        1971               Reading Rainbow  (1983 TV Series)  30 mins.   \n",
       "1972        1972                   Martial Law  (1998 TV Series)  45 mins.   \n",
       "1973        1973  Beast Machines: Transformers  (1999 TV Series)  30 mins.   \n",
       "\n",
       "      rating    votes                                            genre  \\\n",
       "0        9.5  748,557             [u'Adventure', u'Drama', u'Fantasy']   \n",
       "1        9.5  662,459                [u'Crime', u'Drama', u'Thriller']   \n",
       "2        8.7  500,301                            [u'Drama', u'Horror']   \n",
       "3        8.5  438,226                                      [u'Comedy']   \n",
       "4        8.9  419,031    [u'Crime', u'Drama', u'Mystery', u'Thriller']   \n",
       "...      ...      ...                                              ...   \n",
       "1969     6.3    1,510                                      [u'Comedy']   \n",
       "1970     7.2    1,504  [u'Action', u'Adventure', u'Family', u'Sci-Fi']   \n",
       "1971     8.5    1,501                                      [u'Family']   \n",
       "1972     7.1    1,501                 [u'Comedy', u'Crime', u'Action']   \n",
       "1973     6.9    1,500             [u'Action', u'Animation', u'Sci-Fi']   \n",
       "\n",
       "                                                   text  \n",
       "0     Several noble families fight for control of th...  \n",
       "1     A chemistry teacher diagnosed with a terminal ...  \n",
       "2     Sheriff's Deputy Rick Grimes leads a group of ...  \n",
       "3     A woman who moves into an apartment across the...  \n",
       "4     A Miami police forensics expert moonlights as ...  \n",
       "...                                                 ...  \n",
       "1969  In her sixth year of law school, Cristela is f...  \n",
       "1970  The most evil forces of the universe (Rita &am...  \n",
       "1971  Levar Burton introduces young viewers to illus...  \n",
       "1972  A Shanghai cop who is a master of martial arts...  \n",
       "1973  The Maximals awaken on their home planet of Cy...  \n",
       "\n",
       "[1974 rows x 8 columns]"
      ]
     },
     "execution_count": 41,
     "metadata": {},
     "output_type": "execute_result"
    }
   ],
   "source": [
    "df"
   ]
  },
  {
   "cell_type": "code",
   "execution_count": 45,
   "metadata": {},
   "outputs": [
    {
     "data": {
      "text/html": [
       "<div>\n",
       "<style scoped>\n",
       "    .dataframe tbody tr th:only-of-type {\n",
       "        vertical-align: middle;\n",
       "    }\n",
       "\n",
       "    .dataframe tbody tr th {\n",
       "        vertical-align: top;\n",
       "    }\n",
       "\n",
       "    .dataframe thead th {\n",
       "        text-align: right;\n",
       "    }\n",
       "</style>\n",
       "<table border=\"1\" class=\"dataframe\">\n",
       "  <thead>\n",
       "    <tr style=\"text-align: right;\">\n",
       "      <th></th>\n",
       "      <th>Unnamed: 0</th>\n",
       "      <th>title</th>\n",
       "      <th>year</th>\n",
       "      <th>runtime</th>\n",
       "      <th>rating</th>\n",
       "      <th>votes</th>\n",
       "      <th>genre</th>\n",
       "      <th>text</th>\n",
       "    </tr>\n",
       "  </thead>\n",
       "  <tbody>\n",
       "    <tr>\n",
       "      <th>0</th>\n",
       "      <td>0</td>\n",
       "      <td>Game of Thrones</td>\n",
       "      <td>(2011 TV Series)</td>\n",
       "      <td>55 mins.</td>\n",
       "      <td>9.5</td>\n",
       "      <td>748,557</td>\n",
       "      <td>[u'Adventure', u'Drama', u'Fantasy']</td>\n",
       "      <td>Several noble families fight for control of th...</td>\n",
       "    </tr>\n",
       "    <tr>\n",
       "      <th>1</th>\n",
       "      <td>1</td>\n",
       "      <td>Breaking Bad</td>\n",
       "      <td>(2008 TV Series)</td>\n",
       "      <td>45 mins.</td>\n",
       "      <td>9.5</td>\n",
       "      <td>662,459</td>\n",
       "      <td>[u'Crime', u'Drama', u'Thriller']</td>\n",
       "      <td>A chemistry teacher diagnosed with a terminal ...</td>\n",
       "    </tr>\n",
       "    <tr>\n",
       "      <th>2</th>\n",
       "      <td>2</td>\n",
       "      <td>The Walking Dead</td>\n",
       "      <td>(2010 TV Series)</td>\n",
       "      <td>44 mins.</td>\n",
       "      <td>8.7</td>\n",
       "      <td>500,301</td>\n",
       "      <td>[u'Drama', u'Horror']</td>\n",
       "      <td>Sheriff's Deputy Rick Grimes leads a group of ...</td>\n",
       "    </tr>\n",
       "    <tr>\n",
       "      <th>3</th>\n",
       "      <td>3</td>\n",
       "      <td>The Big Bang Theory</td>\n",
       "      <td>(2007 TV Series)</td>\n",
       "      <td>22 mins.</td>\n",
       "      <td>8.5</td>\n",
       "      <td>438,226</td>\n",
       "      <td>[u'Comedy']</td>\n",
       "      <td>A woman who moves into an apartment across the...</td>\n",
       "    </tr>\n",
       "    <tr>\n",
       "      <th>4</th>\n",
       "      <td>4</td>\n",
       "      <td>Dexter</td>\n",
       "      <td>(2006 TV Series)</td>\n",
       "      <td>55 mins.</td>\n",
       "      <td>8.9</td>\n",
       "      <td>419,031</td>\n",
       "      <td>[u'Crime', u'Drama', u'Mystery', u'Thriller']</td>\n",
       "      <td>A Miami police forensics expert moonlights as ...</td>\n",
       "    </tr>\n",
       "  </tbody>\n",
       "</table>\n",
       "</div>"
      ],
      "text/plain": [
       "   Unnamed: 0                title              year   runtime  rating  \\\n",
       "0           0      Game of Thrones  (2011 TV Series)  55 mins.     9.5   \n",
       "1           1         Breaking Bad  (2008 TV Series)  45 mins.     9.5   \n",
       "2           2     The Walking Dead  (2010 TV Series)  44 mins.     8.7   \n",
       "3           3  The Big Bang Theory  (2007 TV Series)  22 mins.     8.5   \n",
       "4           4               Dexter  (2006 TV Series)  55 mins.     8.9   \n",
       "\n",
       "     votes                                          genre  \\\n",
       "0  748,557           [u'Adventure', u'Drama', u'Fantasy']   \n",
       "1  662,459              [u'Crime', u'Drama', u'Thriller']   \n",
       "2  500,301                          [u'Drama', u'Horror']   \n",
       "3  438,226                                    [u'Comedy']   \n",
       "4  419,031  [u'Crime', u'Drama', u'Mystery', u'Thriller']   \n",
       "\n",
       "                                                text  \n",
       "0  Several noble families fight for control of th...  \n",
       "1  A chemistry teacher diagnosed with a terminal ...  \n",
       "2  Sheriff's Deputy Rick Grimes leads a group of ...  \n",
       "3  A woman who moves into an apartment across the...  \n",
       "4  A Miami police forensics expert moonlights as ...  "
      ]
     },
     "execution_count": 45,
     "metadata": {},
     "output_type": "execute_result"
    }
   ],
   "source": [
    "#get a preview\n",
    "\n",
    "df.head()"
   ]
  },
  {
   "cell_type": "code",
   "execution_count": 47,
   "metadata": {},
   "outputs": [
    {
     "data": {
      "text/plain": [
       "Index(['Unnamed: 0', 'title', 'year', 'runtime', 'rating', 'votes', 'genre',\n",
       "       'text'],\n",
       "      dtype='object')"
      ]
     },
     "execution_count": 47,
     "metadata": {},
     "output_type": "execute_result"
    }
   ],
   "source": [
    "#what columns of the csv file\n",
    "\n",
    "df.columns"
   ]
  },
  {
   "cell_type": "code",
   "execution_count": 49,
   "metadata": {},
   "outputs": [
    {
     "data": {
      "text/plain": [
       "Unnamed: 0    1974\n",
       "title         1974\n",
       "year          1974\n",
       "runtime       1814\n",
       "rating        1974\n",
       "votes         1974\n",
       "genre         1970\n",
       "text          1941\n",
       "dtype: int64"
      ]
     },
     "execution_count": 49,
     "metadata": {},
     "output_type": "execute_result"
    }
   ],
   "source": [
    "# Return the number of not empty cells for each column/row\n",
    "\n",
    "df.count()"
   ]
  },
  {
   "cell_type": "code",
   "execution_count": 51,
   "metadata": {},
   "outputs": [
    {
     "data": {
      "text/plain": [
       "Unnamed: 0    1792\n",
       "title         1792\n",
       "year          1792\n",
       "runtime       1792\n",
       "rating        1792\n",
       "votes         1792\n",
       "genre         1792\n",
       "text          1792\n",
       "dtype: int64"
      ]
     },
     "execution_count": 51,
     "metadata": {},
     "output_type": "execute_result"
    }
   ],
   "source": [
    "df2 = df.dropna()\n",
    "df2.count()"
   ]
  },
  {
   "cell_type": "code",
   "execution_count": 55,
   "metadata": {},
   "outputs": [
    {
     "data": {
      "text/html": [
       "<div>\n",
       "<style scoped>\n",
       "    .dataframe tbody tr th:only-of-type {\n",
       "        vertical-align: middle;\n",
       "    }\n",
       "\n",
       "    .dataframe tbody tr th {\n",
       "        vertical-align: top;\n",
       "    }\n",
       "\n",
       "    .dataframe thead th {\n",
       "        text-align: right;\n",
       "    }\n",
       "</style>\n",
       "<table border=\"1\" class=\"dataframe\">\n",
       "  <thead>\n",
       "    <tr style=\"text-align: right;\">\n",
       "      <th></th>\n",
       "      <th>title</th>\n",
       "      <th>year</th>\n",
       "      <th>rating</th>\n",
       "      <th>votes</th>\n",
       "    </tr>\n",
       "  </thead>\n",
       "  <tbody>\n",
       "    <tr>\n",
       "      <th>0</th>\n",
       "      <td>Game of Thrones</td>\n",
       "      <td>(2011 TV Series)</td>\n",
       "      <td>9.5</td>\n",
       "      <td>748,557</td>\n",
       "    </tr>\n",
       "    <tr>\n",
       "      <th>1</th>\n",
       "      <td>Breaking Bad</td>\n",
       "      <td>(2008 TV Series)</td>\n",
       "      <td>9.5</td>\n",
       "      <td>662,459</td>\n",
       "    </tr>\n",
       "    <tr>\n",
       "      <th>2</th>\n",
       "      <td>The Walking Dead</td>\n",
       "      <td>(2010 TV Series)</td>\n",
       "      <td>8.7</td>\n",
       "      <td>500,301</td>\n",
       "    </tr>\n",
       "    <tr>\n",
       "      <th>3</th>\n",
       "      <td>The Big Bang Theory</td>\n",
       "      <td>(2007 TV Series)</td>\n",
       "      <td>8.5</td>\n",
       "      <td>438,226</td>\n",
       "    </tr>\n",
       "    <tr>\n",
       "      <th>4</th>\n",
       "      <td>Dexter</td>\n",
       "      <td>(2006 TV Series)</td>\n",
       "      <td>8.9</td>\n",
       "      <td>419,031</td>\n",
       "    </tr>\n",
       "  </tbody>\n",
       "</table>\n",
       "</div>"
      ],
      "text/plain": [
       "                 title              year  rating    votes\n",
       "0      Game of Thrones  (2011 TV Series)     9.5  748,557\n",
       "1         Breaking Bad  (2008 TV Series)     9.5  662,459\n",
       "2     The Walking Dead  (2010 TV Series)     8.7  500,301\n",
       "3  The Big Bang Theory  (2007 TV Series)     8.5  438,226\n",
       "4               Dexter  (2006 TV Series)     8.9  419,031"
      ]
     },
     "execution_count": 55,
     "metadata": {},
     "output_type": "execute_result"
    }
   ],
   "source": [
    "#only import the columns [\"title\", \"year\", \"rating\", \"votes\"]\n",
    "\n",
    "df3 = pd.read_csv('data/tv_shows.csv', usecols = [\"title\", \"year\", \"rating\", \"votes\"])\n",
    "\n",
    "df3.head()"
   ]
  },
  {
   "cell_type": "code",
   "execution_count": 57,
   "metadata": {},
   "outputs": [
    {
     "data": {
      "text/plain": [
       "title     1974\n",
       "year      1974\n",
       "rating    1974\n",
       "votes     1974\n",
       "dtype: int64"
      ]
     },
     "execution_count": 57,
     "metadata": {},
     "output_type": "execute_result"
    }
   ],
   "source": [
    "df3.count()"
   ]
  },
  {
   "cell_type": "code",
   "execution_count": 59,
   "metadata": {},
   "outputs": [
    {
     "data": {
      "text/plain": [
       "9.6"
      ]
     },
     "execution_count": 59,
     "metadata": {},
     "output_type": "execute_result"
    }
   ],
   "source": [
    "#what is the maximum rating? \n",
    "\n",
    "df3['rating'].max()"
   ]
  },
  {
   "cell_type": "code",
   "execution_count": 61,
   "metadata": {},
   "outputs": [
    {
     "data": {
      "text/plain": [
       "1.8"
      ]
     },
     "execution_count": 61,
     "metadata": {},
     "output_type": "execute_result"
    }
   ],
   "source": [
    "#what is the minimum rating?\n",
    "\n",
    "df3['rating'].min()"
   ]
  },
  {
   "cell_type": "code",
   "execution_count": 63,
   "metadata": {},
   "outputs": [
    {
     "data": {
      "text/plain": [
       "7.486524822695036"
      ]
     },
     "execution_count": 63,
     "metadata": {},
     "output_type": "execute_result"
    }
   ],
   "source": [
    "#find the avg of all of the ratings\n",
    "\n",
    "avgRating = df3['rating'].mean()\n",
    "avgRating"
   ]
  },
  {
   "cell_type": "code",
   "execution_count": 65,
   "metadata": {},
   "outputs": [
    {
     "data": {
      "text/plain": [
       "title      object\n",
       "year       object\n",
       "rating    float64\n",
       "votes      object\n",
       "dtype: object"
      ]
     },
     "execution_count": 65,
     "metadata": {},
     "output_type": "execute_result"
    }
   ],
   "source": [
    "#what data types of the dataframe? \n",
    "\n",
    "df3.dtypes"
   ]
  },
  {
   "cell_type": "code",
   "execution_count": 69,
   "metadata": {},
   "outputs": [
    {
     "ename": "ValueError",
     "evalue": "could not convert string to float: '748,557'",
     "output_type": "error",
     "traceback": [
      "\u001b[1;31m---------------------------------------------------------------------------\u001b[0m",
      "\u001b[1;31mValueError\u001b[0m                                Traceback (most recent call last)",
      "Cell \u001b[1;32mIn[69], line 3\u001b[0m\n\u001b[0;32m      1\u001b[0m \u001b[38;5;66;03m#can you change the datatype of votes?\u001b[39;00m\n\u001b[1;32m----> 3\u001b[0m df3[\u001b[38;5;124m'\u001b[39m\u001b[38;5;124mvotes\u001b[39m\u001b[38;5;124m'\u001b[39m] \u001b[38;5;241m=\u001b[39m df3[\u001b[38;5;124m'\u001b[39m\u001b[38;5;124mvotes\u001b[39m\u001b[38;5;124m'\u001b[39m]\u001b[38;5;241m.\u001b[39mastype(\u001b[38;5;124m'\u001b[39m\u001b[38;5;124mfloat64\u001b[39m\u001b[38;5;124m'\u001b[39m)\n",
      "File \u001b[1;32mC:\\ProgramData\\anaconda3\\Lib\\site-packages\\pandas\\core\\generic.py:6324\u001b[0m, in \u001b[0;36mNDFrame.astype\u001b[1;34m(self, dtype, copy, errors)\u001b[0m\n\u001b[0;32m   6317\u001b[0m     results \u001b[38;5;241m=\u001b[39m [\n\u001b[0;32m   6318\u001b[0m         \u001b[38;5;28mself\u001b[39m\u001b[38;5;241m.\u001b[39miloc[:, i]\u001b[38;5;241m.\u001b[39mastype(dtype, copy\u001b[38;5;241m=\u001b[39mcopy)\n\u001b[0;32m   6319\u001b[0m         \u001b[38;5;28;01mfor\u001b[39;00m i \u001b[38;5;129;01min\u001b[39;00m \u001b[38;5;28mrange\u001b[39m(\u001b[38;5;28mlen\u001b[39m(\u001b[38;5;28mself\u001b[39m\u001b[38;5;241m.\u001b[39mcolumns))\n\u001b[0;32m   6320\u001b[0m     ]\n\u001b[0;32m   6322\u001b[0m \u001b[38;5;28;01melse\u001b[39;00m:\n\u001b[0;32m   6323\u001b[0m     \u001b[38;5;66;03m# else, only a single dtype is given\u001b[39;00m\n\u001b[1;32m-> 6324\u001b[0m     new_data \u001b[38;5;241m=\u001b[39m \u001b[38;5;28mself\u001b[39m\u001b[38;5;241m.\u001b[39m_mgr\u001b[38;5;241m.\u001b[39mastype(dtype\u001b[38;5;241m=\u001b[39mdtype, copy\u001b[38;5;241m=\u001b[39mcopy, errors\u001b[38;5;241m=\u001b[39merrors)\n\u001b[0;32m   6325\u001b[0m     \u001b[38;5;28;01mreturn\u001b[39;00m \u001b[38;5;28mself\u001b[39m\u001b[38;5;241m.\u001b[39m_constructor(new_data)\u001b[38;5;241m.\u001b[39m__finalize__(\u001b[38;5;28mself\u001b[39m, method\u001b[38;5;241m=\u001b[39m\u001b[38;5;124m\"\u001b[39m\u001b[38;5;124mastype\u001b[39m\u001b[38;5;124m\"\u001b[39m)\n\u001b[0;32m   6327\u001b[0m \u001b[38;5;66;03m# GH 33113: handle empty frame or series\u001b[39;00m\n",
      "File \u001b[1;32mC:\\ProgramData\\anaconda3\\Lib\\site-packages\\pandas\\core\\internals\\managers.py:451\u001b[0m, in \u001b[0;36mBaseBlockManager.astype\u001b[1;34m(self, dtype, copy, errors)\u001b[0m\n\u001b[0;32m    448\u001b[0m \u001b[38;5;28;01melif\u001b[39;00m using_copy_on_write():\n\u001b[0;32m    449\u001b[0m     copy \u001b[38;5;241m=\u001b[39m \u001b[38;5;28;01mFalse\u001b[39;00m\n\u001b[1;32m--> 451\u001b[0m \u001b[38;5;28;01mreturn\u001b[39;00m \u001b[38;5;28mself\u001b[39m\u001b[38;5;241m.\u001b[39mapply(\n\u001b[0;32m    452\u001b[0m     \u001b[38;5;124m\"\u001b[39m\u001b[38;5;124mastype\u001b[39m\u001b[38;5;124m\"\u001b[39m,\n\u001b[0;32m    453\u001b[0m     dtype\u001b[38;5;241m=\u001b[39mdtype,\n\u001b[0;32m    454\u001b[0m     copy\u001b[38;5;241m=\u001b[39mcopy,\n\u001b[0;32m    455\u001b[0m     errors\u001b[38;5;241m=\u001b[39merrors,\n\u001b[0;32m    456\u001b[0m     using_cow\u001b[38;5;241m=\u001b[39musing_copy_on_write(),\n\u001b[0;32m    457\u001b[0m )\n",
      "File \u001b[1;32mC:\\ProgramData\\anaconda3\\Lib\\site-packages\\pandas\\core\\internals\\managers.py:352\u001b[0m, in \u001b[0;36mBaseBlockManager.apply\u001b[1;34m(self, f, align_keys, **kwargs)\u001b[0m\n\u001b[0;32m    350\u001b[0m         applied \u001b[38;5;241m=\u001b[39m b\u001b[38;5;241m.\u001b[39mapply(f, \u001b[38;5;241m*\u001b[39m\u001b[38;5;241m*\u001b[39mkwargs)\n\u001b[0;32m    351\u001b[0m     \u001b[38;5;28;01melse\u001b[39;00m:\n\u001b[1;32m--> 352\u001b[0m         applied \u001b[38;5;241m=\u001b[39m \u001b[38;5;28mgetattr\u001b[39m(b, f)(\u001b[38;5;241m*\u001b[39m\u001b[38;5;241m*\u001b[39mkwargs)\n\u001b[0;32m    353\u001b[0m     result_blocks \u001b[38;5;241m=\u001b[39m extend_blocks(applied, result_blocks)\n\u001b[0;32m    355\u001b[0m out \u001b[38;5;241m=\u001b[39m \u001b[38;5;28mtype\u001b[39m(\u001b[38;5;28mself\u001b[39m)\u001b[38;5;241m.\u001b[39mfrom_blocks(result_blocks, \u001b[38;5;28mself\u001b[39m\u001b[38;5;241m.\u001b[39maxes)\n",
      "File \u001b[1;32mC:\\ProgramData\\anaconda3\\Lib\\site-packages\\pandas\\core\\internals\\blocks.py:511\u001b[0m, in \u001b[0;36mBlock.astype\u001b[1;34m(self, dtype, copy, errors, using_cow)\u001b[0m\n\u001b[0;32m    491\u001b[0m \u001b[38;5;250m\u001b[39m\u001b[38;5;124;03m\"\"\"\u001b[39;00m\n\u001b[0;32m    492\u001b[0m \u001b[38;5;124;03mCoerce to the new dtype.\u001b[39;00m\n\u001b[0;32m    493\u001b[0m \n\u001b[1;32m   (...)\u001b[0m\n\u001b[0;32m    507\u001b[0m \u001b[38;5;124;03mBlock\u001b[39;00m\n\u001b[0;32m    508\u001b[0m \u001b[38;5;124;03m\"\"\"\u001b[39;00m\n\u001b[0;32m    509\u001b[0m values \u001b[38;5;241m=\u001b[39m \u001b[38;5;28mself\u001b[39m\u001b[38;5;241m.\u001b[39mvalues\n\u001b[1;32m--> 511\u001b[0m new_values \u001b[38;5;241m=\u001b[39m astype_array_safe(values, dtype, copy\u001b[38;5;241m=\u001b[39mcopy, errors\u001b[38;5;241m=\u001b[39merrors)\n\u001b[0;32m    513\u001b[0m new_values \u001b[38;5;241m=\u001b[39m maybe_coerce_values(new_values)\n\u001b[0;32m    515\u001b[0m refs \u001b[38;5;241m=\u001b[39m \u001b[38;5;28;01mNone\u001b[39;00m\n",
      "File \u001b[1;32mC:\\ProgramData\\anaconda3\\Lib\\site-packages\\pandas\\core\\dtypes\\astype.py:242\u001b[0m, in \u001b[0;36mastype_array_safe\u001b[1;34m(values, dtype, copy, errors)\u001b[0m\n\u001b[0;32m    239\u001b[0m     dtype \u001b[38;5;241m=\u001b[39m dtype\u001b[38;5;241m.\u001b[39mnumpy_dtype\n\u001b[0;32m    241\u001b[0m \u001b[38;5;28;01mtry\u001b[39;00m:\n\u001b[1;32m--> 242\u001b[0m     new_values \u001b[38;5;241m=\u001b[39m astype_array(values, dtype, copy\u001b[38;5;241m=\u001b[39mcopy)\n\u001b[0;32m    243\u001b[0m \u001b[38;5;28;01mexcept\u001b[39;00m (\u001b[38;5;167;01mValueError\u001b[39;00m, \u001b[38;5;167;01mTypeError\u001b[39;00m):\n\u001b[0;32m    244\u001b[0m     \u001b[38;5;66;03m# e.g. _astype_nansafe can fail on object-dtype of strings\u001b[39;00m\n\u001b[0;32m    245\u001b[0m     \u001b[38;5;66;03m#  trying to convert to float\u001b[39;00m\n\u001b[0;32m    246\u001b[0m     \u001b[38;5;28;01mif\u001b[39;00m errors \u001b[38;5;241m==\u001b[39m \u001b[38;5;124m\"\u001b[39m\u001b[38;5;124mignore\u001b[39m\u001b[38;5;124m\"\u001b[39m:\n",
      "File \u001b[1;32mC:\\ProgramData\\anaconda3\\Lib\\site-packages\\pandas\\core\\dtypes\\astype.py:187\u001b[0m, in \u001b[0;36mastype_array\u001b[1;34m(values, dtype, copy)\u001b[0m\n\u001b[0;32m    184\u001b[0m     values \u001b[38;5;241m=\u001b[39m values\u001b[38;5;241m.\u001b[39mastype(dtype, copy\u001b[38;5;241m=\u001b[39mcopy)\n\u001b[0;32m    186\u001b[0m \u001b[38;5;28;01melse\u001b[39;00m:\n\u001b[1;32m--> 187\u001b[0m     values \u001b[38;5;241m=\u001b[39m _astype_nansafe(values, dtype, copy\u001b[38;5;241m=\u001b[39mcopy)\n\u001b[0;32m    189\u001b[0m \u001b[38;5;66;03m# in pandas we don't store numpy str dtypes, so convert to object\u001b[39;00m\n\u001b[0;32m    190\u001b[0m \u001b[38;5;28;01mif\u001b[39;00m \u001b[38;5;28misinstance\u001b[39m(dtype, np\u001b[38;5;241m.\u001b[39mdtype) \u001b[38;5;129;01mand\u001b[39;00m \u001b[38;5;28missubclass\u001b[39m(values\u001b[38;5;241m.\u001b[39mdtype\u001b[38;5;241m.\u001b[39mtype, \u001b[38;5;28mstr\u001b[39m):\n",
      "File \u001b[1;32mC:\\ProgramData\\anaconda3\\Lib\\site-packages\\pandas\\core\\dtypes\\astype.py:138\u001b[0m, in \u001b[0;36m_astype_nansafe\u001b[1;34m(arr, dtype, copy, skipna)\u001b[0m\n\u001b[0;32m    134\u001b[0m     \u001b[38;5;28;01mraise\u001b[39;00m \u001b[38;5;167;01mValueError\u001b[39;00m(msg)\n\u001b[0;32m    136\u001b[0m \u001b[38;5;28;01mif\u001b[39;00m copy \u001b[38;5;129;01mor\u001b[39;00m is_object_dtype(arr\u001b[38;5;241m.\u001b[39mdtype) \u001b[38;5;129;01mor\u001b[39;00m is_object_dtype(dtype):\n\u001b[0;32m    137\u001b[0m     \u001b[38;5;66;03m# Explicit copy, or required since NumPy can't view from / to object.\u001b[39;00m\n\u001b[1;32m--> 138\u001b[0m     \u001b[38;5;28;01mreturn\u001b[39;00m arr\u001b[38;5;241m.\u001b[39mastype(dtype, copy\u001b[38;5;241m=\u001b[39m\u001b[38;5;28;01mTrue\u001b[39;00m)\n\u001b[0;32m    140\u001b[0m \u001b[38;5;28;01mreturn\u001b[39;00m arr\u001b[38;5;241m.\u001b[39mastype(dtype, copy\u001b[38;5;241m=\u001b[39mcopy)\n",
      "\u001b[1;31mValueError\u001b[0m: could not convert string to float: '748,557'"
     ]
    }
   ],
   "source": [
    "#can you change the datatype of votes?\n",
    "\n",
    "df3['votes'] = df3['votes'].astype('float64')"
   ]
  },
  {
   "cell_type": "code",
   "execution_count": 81,
   "metadata": {},
   "outputs": [
    {
     "data": {
      "text/html": [
       "<div>\n",
       "<style scoped>\n",
       "    .dataframe tbody tr th:only-of-type {\n",
       "        vertical-align: middle;\n",
       "    }\n",
       "\n",
       "    .dataframe tbody tr th {\n",
       "        vertical-align: top;\n",
       "    }\n",
       "\n",
       "    .dataframe thead th {\n",
       "        text-align: right;\n",
       "    }\n",
       "</style>\n",
       "<table border=\"1\" class=\"dataframe\">\n",
       "  <thead>\n",
       "    <tr style=\"text-align: right;\">\n",
       "      <th></th>\n",
       "      <th>year</th>\n",
       "      <th>rating</th>\n",
       "      <th>votes</th>\n",
       "    </tr>\n",
       "    <tr>\n",
       "      <th>title</th>\n",
       "      <th></th>\n",
       "      <th></th>\n",
       "      <th></th>\n",
       "    </tr>\n",
       "  </thead>\n",
       "  <tbody>\n",
       "    <tr>\n",
       "      <th>Game of Thrones</th>\n",
       "      <td>(2011 TV Series)</td>\n",
       "      <td>9.5</td>\n",
       "      <td>748,557</td>\n",
       "    </tr>\n",
       "    <tr>\n",
       "      <th>Breaking Bad</th>\n",
       "      <td>(2008 TV Series)</td>\n",
       "      <td>9.5</td>\n",
       "      <td>662,459</td>\n",
       "    </tr>\n",
       "    <tr>\n",
       "      <th>The Walking Dead</th>\n",
       "      <td>(2010 TV Series)</td>\n",
       "      <td>8.7</td>\n",
       "      <td>500,301</td>\n",
       "    </tr>\n",
       "    <tr>\n",
       "      <th>The Big Bang Theory</th>\n",
       "      <td>(2007 TV Series)</td>\n",
       "      <td>8.5</td>\n",
       "      <td>438,226</td>\n",
       "    </tr>\n",
       "    <tr>\n",
       "      <th>Dexter</th>\n",
       "      <td>(2006 TV Series)</td>\n",
       "      <td>8.9</td>\n",
       "      <td>419,031</td>\n",
       "    </tr>\n",
       "  </tbody>\n",
       "</table>\n",
       "</div>"
      ],
      "text/plain": [
       "                                 year  rating    votes\n",
       "title                                                 \n",
       "Game of Thrones      (2011 TV Series)     9.5  748,557\n",
       "Breaking Bad         (2008 TV Series)     9.5  662,459\n",
       "The Walking Dead     (2010 TV Series)     8.7  500,301\n",
       "The Big Bang Theory  (2007 TV Series)     8.5  438,226\n",
       "Dexter               (2006 TV Series)     8.9  419,031"
      ]
     },
     "execution_count": 81,
     "metadata": {},
     "output_type": "execute_result"
    }
   ],
   "source": [
    "#set the index to be the names of the tv show\n",
    "\n",
    "df4 = df3.set_index('title')\n",
    "\n",
    "df4.head()"
   ]
  },
  {
   "cell_type": "code",
   "execution_count": 79,
   "metadata": {},
   "outputs": [
    {
     "data": {
      "text/plain": [
       "title\n",
       "Game of Thrones                 (2011 TV Series)\n",
       "Breaking Bad                    (2008 TV Series)\n",
       "The Walking Dead                (2010 TV Series)\n",
       "The Big Bang Theory             (2007 TV Series)\n",
       "Dexter                          (2006 TV Series)\n",
       "                                      ...       \n",
       "Cristela                        (2014 TV Series)\n",
       "Power Rangers in Space          (1998 TV Series)\n",
       "Reading Rainbow                 (1983 TV Series)\n",
       "Martial Law                     (1998 TV Series)\n",
       "Beast Machines: Transformers    (1999 TV Series)\n",
       "Name: year, Length: 1974, dtype: object"
      ]
     },
     "execution_count": 79,
     "metadata": {},
     "output_type": "execute_result"
    }
   ],
   "source": [
    "#get the year of hte new dataframe\n",
    "\n",
    "df4['year']"
   ]
  },
  {
   "cell_type": "markdown",
   "metadata": {},
   "source": [
    "<!--  -->"
   ]
  },
  {
   "cell_type": "markdown",
   "metadata": {},
   "source": [
    "### .json files\n",
    "\n",
    "**pd.read_json**\n",
    "\n",
    "JSON = Python Dictionary\n",
    "\n",
    "JSON objects have the same format as Python dictionaries. If your JSON code is not in a file, but in a Python Dictionary, you can load it into a DataFrame directly."
   ]
  },
  {
   "cell_type": "code",
   "execution_count": 83,
   "metadata": {},
   "outputs": [],
   "source": [
    "dataJson = {\n",
    "    'item1':{\n",
    "        \"0\":60,\n",
    "        \"1\":60,\n",
    "        \"2\":60\n",
    "    },\n",
    "    'item2':{\n",
    "        '0':100,\n",
    "        '1':100,\n",
    "        '2':100\n",
    "    }\n",
    "}\n",
    "\n"
   ]
  },
  {
   "cell_type": "code",
   "execution_count": 85,
   "metadata": {},
   "outputs": [],
   "source": [
    "dfjson = pd.DataFrame(dataJson)"
   ]
  },
  {
   "cell_type": "code",
   "execution_count": 91,
   "metadata": {},
   "outputs": [
    {
     "data": {
      "text/html": [
       "<div>\n",
       "<style scoped>\n",
       "    .dataframe tbody tr th:only-of-type {\n",
       "        vertical-align: middle;\n",
       "    }\n",
       "\n",
       "    .dataframe tbody tr th {\n",
       "        vertical-align: top;\n",
       "    }\n",
       "\n",
       "    .dataframe thead th {\n",
       "        text-align: right;\n",
       "    }\n",
       "</style>\n",
       "<table border=\"1\" class=\"dataframe\">\n",
       "  <thead>\n",
       "    <tr style=\"text-align: right;\">\n",
       "      <th></th>\n",
       "      <th>area</th>\n",
       "      <th>coordinates</th>\n",
       "      <th>date_established_readable</th>\n",
       "      <th>date_established_unix</th>\n",
       "      <th>description</th>\n",
       "      <th>image</th>\n",
       "      <th>nps_link</th>\n",
       "      <th>states</th>\n",
       "      <th>title</th>\n",
       "      <th>id</th>\n",
       "      <th>visitors</th>\n",
       "      <th>world_heritage_site</th>\n",
       "    </tr>\n",
       "  </thead>\n",
       "  <tbody>\n",
       "    <tr>\n",
       "      <th>0</th>\n",
       "      <td>{'acres': '49,057.36', 'square_km': '198.5'}</td>\n",
       "      <td>{'latitude': 44.35, 'longitude': -68.21}</td>\n",
       "      <td>February 26, 1919</td>\n",
       "      <td>-1604599200</td>\n",
       "      <td>Covering most of Mount Desert Island and other...</td>\n",
       "      <td>{'url': 'acadia.jpg', 'attribution': 'PixelBay...</td>\n",
       "      <td>https://www.nps.gov/acad/index.htm</td>\n",
       "      <td>[{'id': 'state_maine', 'title': 'Maine'}]</td>\n",
       "      <td>Acadia</td>\n",
       "      <td>park_acadia</td>\n",
       "      <td>3,303,393</td>\n",
       "      <td>False</td>\n",
       "    </tr>\n",
       "    <tr>\n",
       "      <th>1</th>\n",
       "      <td>{'acres': '8,256.67', 'square_km': '33.4'}</td>\n",
       "      <td>{'latitude': -14.25, 'longitude': -170.68}</td>\n",
       "      <td>October 31, 1988</td>\n",
       "      <td>594280800</td>\n",
       "      <td>The southernmost National Park is on three Sam...</td>\n",
       "      <td>{'url': 'american-samoa.jpg', 'attribution': '...</td>\n",
       "      <td>https://www.nps.gov/npsa/index.htm</td>\n",
       "      <td>[{'id': 'state_american-samoa', 'title': 'Amer...</td>\n",
       "      <td>American Samoa</td>\n",
       "      <td>park_american-samoa</td>\n",
       "      <td>28,892</td>\n",
       "      <td>False</td>\n",
       "    </tr>\n",
       "    <tr>\n",
       "      <th>2</th>\n",
       "      <td>{'acres': '76,678.98', 'square_km': '310.3'}</td>\n",
       "      <td>{'latitude': 38.68, 'longitude': -109.57}</td>\n",
       "      <td>November 12, 1971</td>\n",
       "      <td>58773600</td>\n",
       "      <td>This site features more than 2,000 natural san...</td>\n",
       "      <td>{'url': 'arches.jpg', 'attribution': 'PixelBay...</td>\n",
       "      <td>https://www.nps.gov/arch/index.htm</td>\n",
       "      <td>[{'id': 'state_utah', 'title': 'Utah'}]</td>\n",
       "      <td>Arches</td>\n",
       "      <td>park_arches</td>\n",
       "      <td>1,585,718</td>\n",
       "      <td>False</td>\n",
       "    </tr>\n",
       "    <tr>\n",
       "      <th>3</th>\n",
       "      <td>{'acres': '242,755.94', 'square_km': '982.4'}</td>\n",
       "      <td>{'latitude': 43.75, 'longitude': -102.5}</td>\n",
       "      <td>November 10, 1978</td>\n",
       "      <td>279525600</td>\n",
       "      <td>The Badlands are a collection of buttes, pinna...</td>\n",
       "      <td>{'url': 'badlands.jpg', 'attribution': 'PixelB...</td>\n",
       "      <td>https://www.nps.gov/badl/index.htm</td>\n",
       "      <td>[{'id': 'state_south-dakota', 'title': 'South ...</td>\n",
       "      <td>Badlands</td>\n",
       "      <td>park_badlands</td>\n",
       "      <td>996,263</td>\n",
       "      <td>False</td>\n",
       "    </tr>\n",
       "    <tr>\n",
       "      <th>4</th>\n",
       "      <td>{'acres': '801,163.21', 'square_km': '3,242.2'}</td>\n",
       "      <td>{'latitude': 29.25, 'longitude': -103.25}</td>\n",
       "      <td>June 12, 1944</td>\n",
       "      <td>-806439600</td>\n",
       "      <td>Named for the prominent bend in the Rio Grande...</td>\n",
       "      <td>{'url': 'big-bend.jpg', 'attribution': 'PixelB...</td>\n",
       "      <td>https://www.nps.gov/bibe/index.htm</td>\n",
       "      <td>[{'id': 'state_texas', 'title': 'Texas'}]</td>\n",
       "      <td>Big Bend</td>\n",
       "      <td>park_big-bend</td>\n",
       "      <td>388,290</td>\n",
       "      <td>False</td>\n",
       "    </tr>\n",
       "  </tbody>\n",
       "</table>\n",
       "</div>"
      ],
      "text/plain": [
       "                                              area  \\\n",
       "0     {'acres': '49,057.36', 'square_km': '198.5'}   \n",
       "1       {'acres': '8,256.67', 'square_km': '33.4'}   \n",
       "2     {'acres': '76,678.98', 'square_km': '310.3'}   \n",
       "3    {'acres': '242,755.94', 'square_km': '982.4'}   \n",
       "4  {'acres': '801,163.21', 'square_km': '3,242.2'}   \n",
       "\n",
       "                                  coordinates date_established_readable  \\\n",
       "0    {'latitude': 44.35, 'longitude': -68.21}         February 26, 1919   \n",
       "1  {'latitude': -14.25, 'longitude': -170.68}          October 31, 1988   \n",
       "2   {'latitude': 38.68, 'longitude': -109.57}         November 12, 1971   \n",
       "3    {'latitude': 43.75, 'longitude': -102.5}         November 10, 1978   \n",
       "4   {'latitude': 29.25, 'longitude': -103.25}             June 12, 1944   \n",
       "\n",
       "   date_established_unix                                        description  \\\n",
       "0            -1604599200  Covering most of Mount Desert Island and other...   \n",
       "1              594280800  The southernmost National Park is on three Sam...   \n",
       "2               58773600  This site features more than 2,000 natural san...   \n",
       "3              279525600  The Badlands are a collection of buttes, pinna...   \n",
       "4             -806439600  Named for the prominent bend in the Rio Grande...   \n",
       "\n",
       "                                               image  \\\n",
       "0  {'url': 'acadia.jpg', 'attribution': 'PixelBay...   \n",
       "1  {'url': 'american-samoa.jpg', 'attribution': '...   \n",
       "2  {'url': 'arches.jpg', 'attribution': 'PixelBay...   \n",
       "3  {'url': 'badlands.jpg', 'attribution': 'PixelB...   \n",
       "4  {'url': 'big-bend.jpg', 'attribution': 'PixelB...   \n",
       "\n",
       "                             nps_link  \\\n",
       "0  https://www.nps.gov/acad/index.htm   \n",
       "1  https://www.nps.gov/npsa/index.htm   \n",
       "2  https://www.nps.gov/arch/index.htm   \n",
       "3  https://www.nps.gov/badl/index.htm   \n",
       "4  https://www.nps.gov/bibe/index.htm   \n",
       "\n",
       "                                              states           title  \\\n",
       "0          [{'id': 'state_maine', 'title': 'Maine'}]          Acadia   \n",
       "1  [{'id': 'state_american-samoa', 'title': 'Amer...  American Samoa   \n",
       "2            [{'id': 'state_utah', 'title': 'Utah'}]          Arches   \n",
       "3  [{'id': 'state_south-dakota', 'title': 'South ...        Badlands   \n",
       "4          [{'id': 'state_texas', 'title': 'Texas'}]        Big Bend   \n",
       "\n",
       "                    id   visitors  world_heritage_site  \n",
       "0          park_acadia  3,303,393                False  \n",
       "1  park_american-samoa     28,892                False  \n",
       "2          park_arches  1,585,718                False  \n",
       "3        park_badlands    996,263                False  \n",
       "4        park_big-bend    388,290                False  "
      ]
     },
     "execution_count": 91,
     "metadata": {},
     "output_type": "execute_result"
    }
   ],
   "source": [
    "#read in nationalParks.json\n",
    "\n",
    "df = pd.read_json('data/nationalParks.json')\n",
    "\n",
    "df.head()"
   ]
  },
  {
   "cell_type": "code",
   "execution_count": null,
   "metadata": {},
   "outputs": [],
   "source": []
  },
  {
   "cell_type": "code",
   "execution_count": 95,
   "metadata": {},
   "outputs": [
    {
     "data": {
      "text/html": [
       "<div>\n",
       "<style scoped>\n",
       "    .dataframe tbody tr th:only-of-type {\n",
       "        vertical-align: middle;\n",
       "    }\n",
       "\n",
       "    .dataframe tbody tr th {\n",
       "        vertical-align: top;\n",
       "    }\n",
       "\n",
       "    .dataframe thead th {\n",
       "        text-align: right;\n",
       "    }\n",
       "</style>\n",
       "<table border=\"1\" class=\"dataframe\">\n",
       "  <thead>\n",
       "    <tr style=\"text-align: right;\">\n",
       "      <th></th>\n",
       "      <th>title</th>\n",
       "      <th>visitors</th>\n",
       "      <th>world_heritage_site</th>\n",
       "      <th>states</th>\n",
       "      <th>date_established_readable</th>\n",
       "      <th>description</th>\n",
       "    </tr>\n",
       "  </thead>\n",
       "  <tbody>\n",
       "    <tr>\n",
       "      <th>0</th>\n",
       "      <td>Acadia</td>\n",
       "      <td>3,303,393</td>\n",
       "      <td>False</td>\n",
       "      <td>[{'id': 'state_maine', 'title': 'Maine'}]</td>\n",
       "      <td>February 26, 1919</td>\n",
       "      <td>Covering most of Mount Desert Island and other...</td>\n",
       "    </tr>\n",
       "    <tr>\n",
       "      <th>1</th>\n",
       "      <td>American Samoa</td>\n",
       "      <td>28,892</td>\n",
       "      <td>False</td>\n",
       "      <td>[{'id': 'state_american-samoa', 'title': 'Amer...</td>\n",
       "      <td>October 31, 1988</td>\n",
       "      <td>The southernmost National Park is on three Sam...</td>\n",
       "    </tr>\n",
       "    <tr>\n",
       "      <th>2</th>\n",
       "      <td>Arches</td>\n",
       "      <td>1,585,718</td>\n",
       "      <td>False</td>\n",
       "      <td>[{'id': 'state_utah', 'title': 'Utah'}]</td>\n",
       "      <td>November 12, 1971</td>\n",
       "      <td>This site features more than 2,000 natural san...</td>\n",
       "    </tr>\n",
       "    <tr>\n",
       "      <th>3</th>\n",
       "      <td>Badlands</td>\n",
       "      <td>996,263</td>\n",
       "      <td>False</td>\n",
       "      <td>[{'id': 'state_south-dakota', 'title': 'South ...</td>\n",
       "      <td>November 10, 1978</td>\n",
       "      <td>The Badlands are a collection of buttes, pinna...</td>\n",
       "    </tr>\n",
       "    <tr>\n",
       "      <th>4</th>\n",
       "      <td>Big Bend</td>\n",
       "      <td>388,290</td>\n",
       "      <td>False</td>\n",
       "      <td>[{'id': 'state_texas', 'title': 'Texas'}]</td>\n",
       "      <td>June 12, 1944</td>\n",
       "      <td>Named for the prominent bend in the Rio Grande...</td>\n",
       "    </tr>\n",
       "  </tbody>\n",
       "</table>\n",
       "</div>"
      ],
      "text/plain": [
       "            title   visitors  world_heritage_site  \\\n",
       "0          Acadia  3,303,393                False   \n",
       "1  American Samoa     28,892                False   \n",
       "2          Arches  1,585,718                False   \n",
       "3        Badlands    996,263                False   \n",
       "4        Big Bend    388,290                False   \n",
       "\n",
       "                                              states  \\\n",
       "0          [{'id': 'state_maine', 'title': 'Maine'}]   \n",
       "1  [{'id': 'state_american-samoa', 'title': 'Amer...   \n",
       "2            [{'id': 'state_utah', 'title': 'Utah'}]   \n",
       "3  [{'id': 'state_south-dakota', 'title': 'South ...   \n",
       "4          [{'id': 'state_texas', 'title': 'Texas'}]   \n",
       "\n",
       "  date_established_readable                                        description  \n",
       "0         February 26, 1919  Covering most of Mount Desert Island and other...  \n",
       "1          October 31, 1988  The southernmost National Park is on three Sam...  \n",
       "2         November 12, 1971  This site features more than 2,000 natural san...  \n",
       "3         November 10, 1978  The Badlands are a collection of buttes, pinna...  \n",
       "4             June 12, 1944  Named for the prominent bend in the Rio Grande...  "
      ]
     },
     "execution_count": 95,
     "metadata": {},
     "output_type": "execute_result"
    }
   ],
   "source": [
    "#only get the ['date_established_readable','description', 'title', 'visitors', 'world_heritage_site', 'states ]\n",
    "\n",
    "df2 = df[['title', 'visitors', 'world_heritage_site', 'states', 'date_established_readable','description']]\n",
    "\n",
    "df2.head()"
   ]
  },
  {
   "cell_type": "code",
   "execution_count": 97,
   "metadata": {},
   "outputs": [
    {
     "data": {
      "text/plain": [
       "title                        object\n",
       "visitors                     object\n",
       "world_heritage_site            bool\n",
       "states                       object\n",
       "date_established_readable    object\n",
       "description                  object\n",
       "dtype: object"
      ]
     },
     "execution_count": 97,
     "metadata": {},
     "output_type": "execute_result"
    }
   ],
   "source": [
    "#get the datatypes\n",
    "\n",
    "df2.dtypes"
   ]
  },
  {
   "cell_type": "code",
   "execution_count": 101,
   "metadata": {},
   "outputs": [
    {
     "data": {
      "text/html": [
       "<div>\n",
       "<style scoped>\n",
       "    .dataframe tbody tr th:only-of-type {\n",
       "        vertical-align: middle;\n",
       "    }\n",
       "\n",
       "    .dataframe tbody tr th {\n",
       "        vertical-align: top;\n",
       "    }\n",
       "\n",
       "    .dataframe thead th {\n",
       "        text-align: right;\n",
       "    }\n",
       "</style>\n",
       "<table border=\"1\" class=\"dataframe\">\n",
       "  <thead>\n",
       "    <tr style=\"text-align: right;\">\n",
       "      <th></th>\n",
       "      <th>title</th>\n",
       "      <th>visitors</th>\n",
       "      <th>world_heritage_site</th>\n",
       "      <th>states</th>\n",
       "      <th>date_established_readable</th>\n",
       "      <th>description</th>\n",
       "    </tr>\n",
       "  </thead>\n",
       "  <tbody>\n",
       "    <tr>\n",
       "      <th>10</th>\n",
       "      <td>Carlsbad Caverns</td>\n",
       "      <td>466,773</td>\n",
       "      <td>True</td>\n",
       "      <td>[{'id': 'state_new-mexico', 'title': 'New Mexi...</td>\n",
       "      <td>May 14, 1930</td>\n",
       "      <td>Carlsbad Caverns has 117 caves, the longest of...</td>\n",
       "    </tr>\n",
       "    <tr>\n",
       "      <th>18</th>\n",
       "      <td>Everglades</td>\n",
       "      <td>930,907</td>\n",
       "      <td>True</td>\n",
       "      <td>[{'id': 'state_florida', 'title': 'Florida'}]</td>\n",
       "      <td>May 30, 1934</td>\n",
       "      <td>The Everglades are the largest tropical wilder...</td>\n",
       "    </tr>\n",
       "    <tr>\n",
       "      <th>20</th>\n",
       "      <td>Glacier</td>\n",
       "      <td>2,946,681</td>\n",
       "      <td>True</td>\n",
       "      <td>[{'id': 'state_montana', 'title': 'Montana'}]</td>\n",
       "      <td>May 11, 1910</td>\n",
       "      <td>The U.S. half of Waterton-Glacier Internationa...</td>\n",
       "    </tr>\n",
       "    <tr>\n",
       "      <th>21</th>\n",
       "      <td>Glacier Bay</td>\n",
       "      <td>520,171</td>\n",
       "      <td>True</td>\n",
       "      <td>[{'id': 'state_alaska', 'title': 'Alaska'}]</td>\n",
       "      <td>December 2, 1980</td>\n",
       "      <td>Glacier Bay contains tidewater glaciers, mount...</td>\n",
       "    </tr>\n",
       "    <tr>\n",
       "      <th>22</th>\n",
       "      <td>Grand Canyon</td>\n",
       "      <td>5,969,811</td>\n",
       "      <td>True</td>\n",
       "      <td>[{'id': 'state_arizona', 'title': 'Arizona'}]</td>\n",
       "      <td>February 26, 1919</td>\n",
       "      <td>The Grand Canyon, carved by the mighty Colorad...</td>\n",
       "    </tr>\n",
       "    <tr>\n",
       "      <th>26</th>\n",
       "      <td>Great Smoky Mountains</td>\n",
       "      <td>11,312,786</td>\n",
       "      <td>True</td>\n",
       "      <td>[{'id': 'state_tennessee', 'title': 'Tennessee...</td>\n",
       "      <td>June 15, 1934</td>\n",
       "      <td>The Great Smoky Mountains, part of the Appalac...</td>\n",
       "    </tr>\n",
       "    <tr>\n",
       "      <th>29</th>\n",
       "      <td>Hawaii Volcanoes</td>\n",
       "      <td>1,887,580</td>\n",
       "      <td>True</td>\n",
       "      <td>[{'id': 'state_hawaii', 'title': 'Hawaii'}]</td>\n",
       "      <td>August 1, 1916</td>\n",
       "      <td>This park on the Big Island protects the Kīlau...</td>\n",
       "    </tr>\n",
       "    <tr>\n",
       "      <th>39</th>\n",
       "      <td>Mammoth Cave</td>\n",
       "      <td>586,514</td>\n",
       "      <td>True</td>\n",
       "      <td>[{'id': 'state_kentucky', 'title': 'Kentucky'}]</td>\n",
       "      <td>July 1, 1941</td>\n",
       "      <td>With more than 400 miles (640 km) of passagewa...</td>\n",
       "    </tr>\n",
       "    <tr>\n",
       "      <th>40</th>\n",
       "      <td>Mesa Verde</td>\n",
       "      <td>583,527</td>\n",
       "      <td>True</td>\n",
       "      <td>[{'id': 'state_colorado', 'title': 'Colorado'}]</td>\n",
       "      <td>June 29, 1906</td>\n",
       "      <td>This area constitutes over 4,000 archaeologica...</td>\n",
       "    </tr>\n",
       "    <tr>\n",
       "      <th>43</th>\n",
       "      <td>Olympic</td>\n",
       "      <td>3,390,221</td>\n",
       "      <td>True</td>\n",
       "      <td>[{'id': 'state_washington', 'title': 'Washingt...</td>\n",
       "      <td>June 29, 1938</td>\n",
       "      <td>Situated on the Olympic Peninsula, this park i...</td>\n",
       "    </tr>\n",
       "    <tr>\n",
       "      <th>46</th>\n",
       "      <td>Redwood</td>\n",
       "      <td>536,297</td>\n",
       "      <td>True</td>\n",
       "      <td>[{'id': 'state_california', 'title': 'Californ...</td>\n",
       "      <td>October 2, 1968</td>\n",
       "      <td>This park and the co-managed state parks prote...</td>\n",
       "    </tr>\n",
       "    <tr>\n",
       "      <th>55</th>\n",
       "      <td>Wrangell–St. Elias</td>\n",
       "      <td>79,047</td>\n",
       "      <td>True</td>\n",
       "      <td>[{'id': 'state_alaska', 'title': 'Alaska'}]</td>\n",
       "      <td>December 2, 1980</td>\n",
       "      <td>An over 8 million acres (32,375 km2) plot of m...</td>\n",
       "    </tr>\n",
       "    <tr>\n",
       "      <th>56</th>\n",
       "      <td>Yellowstone</td>\n",
       "      <td>4,257,177</td>\n",
       "      <td>True</td>\n",
       "      <td>[{'id': 'state_wyoming', 'title': 'Wyoming'}, ...</td>\n",
       "      <td>March 1, 1872</td>\n",
       "      <td>Situated on the Yellowstone Caldera, the park ...</td>\n",
       "    </tr>\n",
       "    <tr>\n",
       "      <th>57</th>\n",
       "      <td>Yosemite</td>\n",
       "      <td>5,028,868</td>\n",
       "      <td>True</td>\n",
       "      <td>[{'id': 'state_california', 'title': 'Californ...</td>\n",
       "      <td>October 1, 1890</td>\n",
       "      <td>Yosemite features sheer granite cliffs, except...</td>\n",
       "    </tr>\n",
       "  </tbody>\n",
       "</table>\n",
       "</div>"
      ],
      "text/plain": [
       "                    title    visitors  world_heritage_site  \\\n",
       "10       Carlsbad Caverns     466,773                 True   \n",
       "18             Everglades     930,907                 True   \n",
       "20                Glacier   2,946,681                 True   \n",
       "21            Glacier Bay     520,171                 True   \n",
       "22           Grand Canyon   5,969,811                 True   \n",
       "26  Great Smoky Mountains  11,312,786                 True   \n",
       "29       Hawaii Volcanoes   1,887,580                 True   \n",
       "39           Mammoth Cave     586,514                 True   \n",
       "40             Mesa Verde     583,527                 True   \n",
       "43                Olympic   3,390,221                 True   \n",
       "46                Redwood     536,297                 True   \n",
       "55     Wrangell–St. Elias      79,047                 True   \n",
       "56            Yellowstone   4,257,177                 True   \n",
       "57               Yosemite   5,028,868                 True   \n",
       "\n",
       "                                               states  \\\n",
       "10  [{'id': 'state_new-mexico', 'title': 'New Mexi...   \n",
       "18      [{'id': 'state_florida', 'title': 'Florida'}]   \n",
       "20      [{'id': 'state_montana', 'title': 'Montana'}]   \n",
       "21        [{'id': 'state_alaska', 'title': 'Alaska'}]   \n",
       "22      [{'id': 'state_arizona', 'title': 'Arizona'}]   \n",
       "26  [{'id': 'state_tennessee', 'title': 'Tennessee...   \n",
       "29        [{'id': 'state_hawaii', 'title': 'Hawaii'}]   \n",
       "39    [{'id': 'state_kentucky', 'title': 'Kentucky'}]   \n",
       "40    [{'id': 'state_colorado', 'title': 'Colorado'}]   \n",
       "43  [{'id': 'state_washington', 'title': 'Washingt...   \n",
       "46  [{'id': 'state_california', 'title': 'Californ...   \n",
       "55        [{'id': 'state_alaska', 'title': 'Alaska'}]   \n",
       "56  [{'id': 'state_wyoming', 'title': 'Wyoming'}, ...   \n",
       "57  [{'id': 'state_california', 'title': 'Californ...   \n",
       "\n",
       "   date_established_readable  \\\n",
       "10              May 14, 1930   \n",
       "18              May 30, 1934   \n",
       "20              May 11, 1910   \n",
       "21          December 2, 1980   \n",
       "22         February 26, 1919   \n",
       "26             June 15, 1934   \n",
       "29            August 1, 1916   \n",
       "39              July 1, 1941   \n",
       "40             June 29, 1906   \n",
       "43             June 29, 1938   \n",
       "46           October 2, 1968   \n",
       "55          December 2, 1980   \n",
       "56             March 1, 1872   \n",
       "57           October 1, 1890   \n",
       "\n",
       "                                          description  \n",
       "10  Carlsbad Caverns has 117 caves, the longest of...  \n",
       "18  The Everglades are the largest tropical wilder...  \n",
       "20  The U.S. half of Waterton-Glacier Internationa...  \n",
       "21  Glacier Bay contains tidewater glaciers, mount...  \n",
       "22  The Grand Canyon, carved by the mighty Colorad...  \n",
       "26  The Great Smoky Mountains, part of the Appalac...  \n",
       "29  This park on the Big Island protects the Kīlau...  \n",
       "39  With more than 400 miles (640 km) of passagewa...  \n",
       "40  This area constitutes over 4,000 archaeologica...  \n",
       "43  Situated on the Olympic Peninsula, this park i...  \n",
       "46  This park and the co-managed state parks prote...  \n",
       "55  An over 8 million acres (32,375 km2) plot of m...  \n",
       "56  Situated on the Yellowstone Caldera, the park ...  \n",
       "57  Yosemite features sheer granite cliffs, except...  "
      ]
     },
     "execution_count": 101,
     "metadata": {},
     "output_type": "execute_result"
    }
   ],
   "source": [
    "#find the national parks that are world heritage sites\n",
    "\n",
    "whsNum = df2[df2['world_heritage_site'] == True]\n",
    "\n",
    "whsNum"
   ]
  },
  {
   "cell_type": "markdown",
   "metadata": {},
   "source": [
    "<!--  -->"
   ]
  },
  {
   "cell_type": "markdown",
   "metadata": {},
   "source": [
    "#### Exercise 1: get the national parks with over a million visitors"
   ]
  },
  {
   "cell_type": "code",
   "execution_count": 113,
   "metadata": {},
   "outputs": [
    {
     "name": "stderr",
     "output_type": "stream",
     "text": [
      "C:\\Users\\kylemcp\\AppData\\Local\\Temp\\ipykernel_5800\\51768232.py:3: SettingWithCopyWarning: \n",
      "A value is trying to be set on a copy of a slice from a DataFrame.\n",
      "Try using .loc[row_indexer,col_indexer] = value instead\n",
      "\n",
      "See the caveats in the documentation: https://pandas.pydata.org/pandas-docs/stable/user_guide/indexing.html#returning-a-view-versus-a-copy\n",
      "  df2_cleanVis['visitors'] = df2_cleanVis['visitors'].replace(',','', regex = True)\n"
     ]
    },
    {
     "data": {
      "text/html": [
       "<div>\n",
       "<style scoped>\n",
       "    .dataframe tbody tr th:only-of-type {\n",
       "        vertical-align: middle;\n",
       "    }\n",
       "\n",
       "    .dataframe tbody tr th {\n",
       "        vertical-align: top;\n",
       "    }\n",
       "\n",
       "    .dataframe thead th {\n",
       "        text-align: right;\n",
       "    }\n",
       "</style>\n",
       "<table border=\"1\" class=\"dataframe\">\n",
       "  <thead>\n",
       "    <tr style=\"text-align: right;\">\n",
       "      <th></th>\n",
       "      <th>title</th>\n",
       "      <th>visitors</th>\n",
       "      <th>world_heritage_site</th>\n",
       "      <th>states</th>\n",
       "      <th>date_established_readable</th>\n",
       "      <th>description</th>\n",
       "    </tr>\n",
       "  </thead>\n",
       "  <tbody>\n",
       "    <tr>\n",
       "      <th>0</th>\n",
       "      <td>Acadia</td>\n",
       "      <td>3303393</td>\n",
       "      <td>False</td>\n",
       "      <td>[{'id': 'state_maine', 'title': 'Maine'}]</td>\n",
       "      <td>February 26, 1919</td>\n",
       "      <td>Covering most of Mount Desert Island and other...</td>\n",
       "    </tr>\n",
       "    <tr>\n",
       "      <th>1</th>\n",
       "      <td>American Samoa</td>\n",
       "      <td>28892</td>\n",
       "      <td>False</td>\n",
       "      <td>[{'id': 'state_american-samoa', 'title': 'Amer...</td>\n",
       "      <td>October 31, 1988</td>\n",
       "      <td>The southernmost National Park is on three Sam...</td>\n",
       "    </tr>\n",
       "    <tr>\n",
       "      <th>2</th>\n",
       "      <td>Arches</td>\n",
       "      <td>1585718</td>\n",
       "      <td>False</td>\n",
       "      <td>[{'id': 'state_utah', 'title': 'Utah'}]</td>\n",
       "      <td>November 12, 1971</td>\n",
       "      <td>This site features more than 2,000 natural san...</td>\n",
       "    </tr>\n",
       "    <tr>\n",
       "      <th>3</th>\n",
       "      <td>Badlands</td>\n",
       "      <td>996263</td>\n",
       "      <td>False</td>\n",
       "      <td>[{'id': 'state_south-dakota', 'title': 'South ...</td>\n",
       "      <td>November 10, 1978</td>\n",
       "      <td>The Badlands are a collection of buttes, pinna...</td>\n",
       "    </tr>\n",
       "    <tr>\n",
       "      <th>4</th>\n",
       "      <td>Big Bend</td>\n",
       "      <td>388290</td>\n",
       "      <td>False</td>\n",
       "      <td>[{'id': 'state_texas', 'title': 'Texas'}]</td>\n",
       "      <td>June 12, 1944</td>\n",
       "      <td>Named for the prominent bend in the Rio Grande...</td>\n",
       "    </tr>\n",
       "  </tbody>\n",
       "</table>\n",
       "</div>"
      ],
      "text/plain": [
       "            title visitors  world_heritage_site  \\\n",
       "0          Acadia  3303393                False   \n",
       "1  American Samoa    28892                False   \n",
       "2          Arches  1585718                False   \n",
       "3        Badlands   996263                False   \n",
       "4        Big Bend   388290                False   \n",
       "\n",
       "                                              states  \\\n",
       "0          [{'id': 'state_maine', 'title': 'Maine'}]   \n",
       "1  [{'id': 'state_american-samoa', 'title': 'Amer...   \n",
       "2            [{'id': 'state_utah', 'title': 'Utah'}]   \n",
       "3  [{'id': 'state_south-dakota', 'title': 'South ...   \n",
       "4          [{'id': 'state_texas', 'title': 'Texas'}]   \n",
       "\n",
       "  date_established_readable                                        description  \n",
       "0         February 26, 1919  Covering most of Mount Desert Island and other...  \n",
       "1          October 31, 1988  The southernmost National Park is on three Sam...  \n",
       "2         November 12, 1971  This site features more than 2,000 natural san...  \n",
       "3         November 10, 1978  The Badlands are a collection of buttes, pinna...  \n",
       "4             June 12, 1944  Named for the prominent bend in the Rio Grande...  "
      ]
     },
     "execution_count": 113,
     "metadata": {},
     "output_type": "execute_result"
    }
   ],
   "source": [
    "df2_cleanVis = df2\n",
    "\n",
    "df2_cleanVis['visitors'] = df2_cleanVis['visitors'].replace(',','', regex = True)\n",
    "\n",
    "df2_cleanVis.head()"
   ]
  },
  {
   "cell_type": "code",
   "execution_count": 115,
   "metadata": {},
   "outputs": [
    {
     "data": {
      "text/plain": [
       "title                        object\n",
       "visitors                     object\n",
       "world_heritage_site            bool\n",
       "states                       object\n",
       "date_established_readable    object\n",
       "description                  object\n",
       "dtype: object"
      ]
     },
     "execution_count": 115,
     "metadata": {},
     "output_type": "execute_result"
    }
   ],
   "source": [
    "df2_cleanVis.dtypes"
   ]
  },
  {
   "cell_type": "code",
   "execution_count": 117,
   "metadata": {},
   "outputs": [
    {
     "name": "stderr",
     "output_type": "stream",
     "text": [
      "C:\\Users\\kylemcp\\AppData\\Local\\Temp\\ipykernel_5800\\3495534458.py:1: SettingWithCopyWarning: \n",
      "A value is trying to be set on a copy of a slice from a DataFrame.\n",
      "Try using .loc[row_indexer,col_indexer] = value instead\n",
      "\n",
      "See the caveats in the documentation: https://pandas.pydata.org/pandas-docs/stable/user_guide/indexing.html#returning-a-view-versus-a-copy\n",
      "  df2_cleanVis['visitors'] = df2_cleanVis['visitors'].astype('float')\n"
     ]
    },
    {
     "data": {
      "text/html": [
       "<div>\n",
       "<style scoped>\n",
       "    .dataframe tbody tr th:only-of-type {\n",
       "        vertical-align: middle;\n",
       "    }\n",
       "\n",
       "    .dataframe tbody tr th {\n",
       "        vertical-align: top;\n",
       "    }\n",
       "\n",
       "    .dataframe thead th {\n",
       "        text-align: right;\n",
       "    }\n",
       "</style>\n",
       "<table border=\"1\" class=\"dataframe\">\n",
       "  <thead>\n",
       "    <tr style=\"text-align: right;\">\n",
       "      <th></th>\n",
       "      <th>title</th>\n",
       "      <th>visitors</th>\n",
       "      <th>world_heritage_site</th>\n",
       "      <th>states</th>\n",
       "      <th>date_established_readable</th>\n",
       "      <th>description</th>\n",
       "    </tr>\n",
       "  </thead>\n",
       "  <tbody>\n",
       "    <tr>\n",
       "      <th>0</th>\n",
       "      <td>Acadia</td>\n",
       "      <td>3303393.0</td>\n",
       "      <td>False</td>\n",
       "      <td>[{'id': 'state_maine', 'title': 'Maine'}]</td>\n",
       "      <td>February 26, 1919</td>\n",
       "      <td>Covering most of Mount Desert Island and other...</td>\n",
       "    </tr>\n",
       "    <tr>\n",
       "      <th>1</th>\n",
       "      <td>American Samoa</td>\n",
       "      <td>28892.0</td>\n",
       "      <td>False</td>\n",
       "      <td>[{'id': 'state_american-samoa', 'title': 'Amer...</td>\n",
       "      <td>October 31, 1988</td>\n",
       "      <td>The southernmost National Park is on three Sam...</td>\n",
       "    </tr>\n",
       "    <tr>\n",
       "      <th>2</th>\n",
       "      <td>Arches</td>\n",
       "      <td>1585718.0</td>\n",
       "      <td>False</td>\n",
       "      <td>[{'id': 'state_utah', 'title': 'Utah'}]</td>\n",
       "      <td>November 12, 1971</td>\n",
       "      <td>This site features more than 2,000 natural san...</td>\n",
       "    </tr>\n",
       "    <tr>\n",
       "      <th>3</th>\n",
       "      <td>Badlands</td>\n",
       "      <td>996263.0</td>\n",
       "      <td>False</td>\n",
       "      <td>[{'id': 'state_south-dakota', 'title': 'South ...</td>\n",
       "      <td>November 10, 1978</td>\n",
       "      <td>The Badlands are a collection of buttes, pinna...</td>\n",
       "    </tr>\n",
       "    <tr>\n",
       "      <th>4</th>\n",
       "      <td>Big Bend</td>\n",
       "      <td>388290.0</td>\n",
       "      <td>False</td>\n",
       "      <td>[{'id': 'state_texas', 'title': 'Texas'}]</td>\n",
       "      <td>June 12, 1944</td>\n",
       "      <td>Named for the prominent bend in the Rio Grande...</td>\n",
       "    </tr>\n",
       "  </tbody>\n",
       "</table>\n",
       "</div>"
      ],
      "text/plain": [
       "            title   visitors  world_heritage_site  \\\n",
       "0          Acadia  3303393.0                False   \n",
       "1  American Samoa    28892.0                False   \n",
       "2          Arches  1585718.0                False   \n",
       "3        Badlands   996263.0                False   \n",
       "4        Big Bend   388290.0                False   \n",
       "\n",
       "                                              states  \\\n",
       "0          [{'id': 'state_maine', 'title': 'Maine'}]   \n",
       "1  [{'id': 'state_american-samoa', 'title': 'Amer...   \n",
       "2            [{'id': 'state_utah', 'title': 'Utah'}]   \n",
       "3  [{'id': 'state_south-dakota', 'title': 'South ...   \n",
       "4          [{'id': 'state_texas', 'title': 'Texas'}]   \n",
       "\n",
       "  date_established_readable                                        description  \n",
       "0         February 26, 1919  Covering most of Mount Desert Island and other...  \n",
       "1          October 31, 1988  The southernmost National Park is on three Sam...  \n",
       "2         November 12, 1971  This site features more than 2,000 natural san...  \n",
       "3         November 10, 1978  The Badlands are a collection of buttes, pinna...  \n",
       "4             June 12, 1944  Named for the prominent bend in the Rio Grande...  "
      ]
     },
     "execution_count": 117,
     "metadata": {},
     "output_type": "execute_result"
    }
   ],
   "source": [
    "df2_cleanVis['visitors'] = df2_cleanVis['visitors'].astype('float')\n",
    "\n",
    "df2_cleanVis.head()"
   ]
  },
  {
   "cell_type": "code",
   "execution_count": 121,
   "metadata": {},
   "outputs": [],
   "source": [
    "milVis = df2_cleanVis[df2_cleanVis['visitors'] > 1000000]"
   ]
  },
  {
   "cell_type": "code",
   "execution_count": 123,
   "metadata": {},
   "outputs": [
    {
     "data": {
      "text/html": [
       "<div>\n",
       "<style scoped>\n",
       "    .dataframe tbody tr th:only-of-type {\n",
       "        vertical-align: middle;\n",
       "    }\n",
       "\n",
       "    .dataframe tbody tr th {\n",
       "        vertical-align: top;\n",
       "    }\n",
       "\n",
       "    .dataframe thead th {\n",
       "        text-align: right;\n",
       "    }\n",
       "</style>\n",
       "<table border=\"1\" class=\"dataframe\">\n",
       "  <thead>\n",
       "    <tr style=\"text-align: right;\">\n",
       "      <th></th>\n",
       "      <th>title</th>\n",
       "      <th>visitors</th>\n",
       "      <th>world_heritage_site</th>\n",
       "      <th>states</th>\n",
       "      <th>date_established_readable</th>\n",
       "      <th>description</th>\n",
       "    </tr>\n",
       "  </thead>\n",
       "  <tbody>\n",
       "    <tr>\n",
       "      <th>0</th>\n",
       "      <td>Acadia</td>\n",
       "      <td>3303393.0</td>\n",
       "      <td>False</td>\n",
       "      <td>[{'id': 'state_maine', 'title': 'Maine'}]</td>\n",
       "      <td>February 26, 1919</td>\n",
       "      <td>Covering most of Mount Desert Island and other...</td>\n",
       "    </tr>\n",
       "    <tr>\n",
       "      <th>2</th>\n",
       "      <td>Arches</td>\n",
       "      <td>1585718.0</td>\n",
       "      <td>False</td>\n",
       "      <td>[{'id': 'state_utah', 'title': 'Utah'}]</td>\n",
       "      <td>November 12, 1971</td>\n",
       "      <td>This site features more than 2,000 natural san...</td>\n",
       "    </tr>\n",
       "    <tr>\n",
       "      <th>7</th>\n",
       "      <td>Bryce Canyon</td>\n",
       "      <td>2365110.0</td>\n",
       "      <td>False</td>\n",
       "      <td>[{'id': 'state_utah', 'title': 'Utah'}]</td>\n",
       "      <td>February 25, 1928</td>\n",
       "      <td>Bryce Canyon is a geological amphitheater on t...</td>\n",
       "    </tr>\n",
       "    <tr>\n",
       "      <th>9</th>\n",
       "      <td>Capitol Reef</td>\n",
       "      <td>1064904.0</td>\n",
       "      <td>False</td>\n",
       "      <td>[{'id': 'state_utah', 'title': 'Utah'}]</td>\n",
       "      <td>December 18, 1971</td>\n",
       "      <td>The park's Waterpocket Fold is a 100-mile (160...</td>\n",
       "    </tr>\n",
       "    <tr>\n",
       "      <th>14</th>\n",
       "      <td>Cuyahoga Valley</td>\n",
       "      <td>2423390.0</td>\n",
       "      <td>False</td>\n",
       "      <td>[{'id': 'state_ohio', 'title': 'Ohio'}]</td>\n",
       "      <td>October 11, 2000</td>\n",
       "      <td>This park along the Cuyahoga River has waterfa...</td>\n",
       "    </tr>\n",
       "  </tbody>\n",
       "</table>\n",
       "</div>"
      ],
      "text/plain": [
       "              title   visitors  world_heritage_site  \\\n",
       "0            Acadia  3303393.0                False   \n",
       "2            Arches  1585718.0                False   \n",
       "7      Bryce Canyon  2365110.0                False   \n",
       "9      Capitol Reef  1064904.0                False   \n",
       "14  Cuyahoga Valley  2423390.0                False   \n",
       "\n",
       "                                       states date_established_readable  \\\n",
       "0   [{'id': 'state_maine', 'title': 'Maine'}]         February 26, 1919   \n",
       "2     [{'id': 'state_utah', 'title': 'Utah'}]         November 12, 1971   \n",
       "7     [{'id': 'state_utah', 'title': 'Utah'}]         February 25, 1928   \n",
       "9     [{'id': 'state_utah', 'title': 'Utah'}]         December 18, 1971   \n",
       "14    [{'id': 'state_ohio', 'title': 'Ohio'}]          October 11, 2000   \n",
       "\n",
       "                                          description  \n",
       "0   Covering most of Mount Desert Island and other...  \n",
       "2   This site features more than 2,000 natural san...  \n",
       "7   Bryce Canyon is a geological amphitheater on t...  \n",
       "9   The park's Waterpocket Fold is a 100-mile (160...  \n",
       "14  This park along the Cuyahoga River has waterfa...  "
      ]
     },
     "execution_count": 123,
     "metadata": {},
     "output_type": "execute_result"
    }
   ],
   "source": [
    "milVis.head()"
   ]
  },
  {
   "cell_type": "markdown",
   "metadata": {},
   "source": [
    "<!--  -->"
   ]
  },
  {
   "cell_type": "markdown",
   "metadata": {},
   "source": [
    "### Exercise 2: Create a dictionary of the number of national parks per state\n"
   ]
  },
  {
   "cell_type": "code",
   "execution_count": null,
   "metadata": {},
   "outputs": [],
   "source": []
  }
 ],
 "metadata": {
  "kernelspec": {
   "display_name": "Python [conda env:base] *",
   "language": "python",
   "name": "conda-base-py"
  },
  "language_info": {
   "codemirror_mode": {
    "name": "ipython",
    "version": 3
   },
   "file_extension": ".py",
   "mimetype": "text/x-python",
   "name": "python",
   "nbconvert_exporter": "python",
   "pygments_lexer": "ipython3",
   "version": "3.11.5"
  }
 },
 "nbformat": 4,
 "nbformat_minor": 4
}
